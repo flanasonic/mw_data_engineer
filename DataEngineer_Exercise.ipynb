{
 "cells": [
  {
   "cell_type": "markdown",
   "id": "6439df0a-bfce-44bd-ac83-bf537a4321ce",
   "metadata": {},
   "source": [
    "## Exercise 1: Produce a \"people\" file\n",
    "\n",
    "Produce a “people” file based on the schema provided. Save it to the working directory as a CSV with a header line."
   ]
  },
  {
   "cell_type": "code",
   "execution_count": 1,
   "id": "0f675dc9-cbd4-4d9e-8b94-cb338b9d7a68",
   "metadata": {
    "tags": []
   },
   "outputs": [],
   "source": [
    "# First, we need to import pandas\n",
    "import pandas as pd"
   ]
  },
  {
   "cell_type": "code",
   "execution_count": 1,
   "id": "59818b89-8428-4f26-aab4-edba9e9f8aaa",
   "metadata": {
    "tags": []
   },
   "outputs": [],
   "source": [
    "# bring in just the columns we need\n",
    "# then for rows where email is null AND chapter_id is 1, we should assume user is still subsciredbed, so we should make is_unsub False (0)"
   ]
  },
  {
   "cell_type": "code",
   "execution_count": null,
   "id": "639ccaa8-7c32-4a91-bd25-7de6dafe4136",
   "metadata": {},
   "outputs": [],
   "source": []
  }
 ],
 "metadata": {
  "kernelspec": {
   "display_name": "Python 3 (ipykernel)",
   "language": "python",
   "name": "python3"
  },
  "language_info": {
   "codemirror_mode": {
    "name": "ipython",
    "version": 3
   },
   "file_extension": ".py",
   "mimetype": "text/x-python",
   "name": "python",
   "nbconvert_exporter": "python",
   "pygments_lexer": "ipython3",
   "version": "3.9.5"
  }
 },
 "nbformat": 4,
 "nbformat_minor": 5
}
